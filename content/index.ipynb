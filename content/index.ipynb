{
 "cells": [
  {
   "cell_type": "markdown",
   "id": "768627b5-ff92-4033-af96-0e6e4f45f07c",
   "metadata": {},
   "source": [
    "<h1 style=\"color: rgb(0, 91, 94);\">Math Notebooks</h1>\n",
    "\n",
    "<a style=\"color: #005b5e;\" href=\"https://ianmcloughlin.github.io\"><b>by Ian McLoughlin (ian.mcloughlin@atu.ie)</b></a>"
   ]
  },
  {
   "cell_type": "code",
   "execution_count": 3,
   "id": "a3c70fa3-daa7-4f94-bb0e-6cce31121000",
   "metadata": {
    "jupyter": {
     "source_hidden": true
    }
   },
   "outputs": [
    {
     "data": {
      "text/html": [
       "<iframe width=\"720\" height=\"207\" src=\"https://ianmcloughlin.github.io/singles/sin_circles/\" frameborder=\"0\"></iframe>\n"
      ],
      "text/plain": [
       "<IPython.core.display.HTML object>"
      ]
     },
     "metadata": {},
     "output_type": "display_data"
    }
   ],
   "source": [
    "%%html\n",
    "<iframe width=\"720\" height=\"207\" src=\"https://ianmcloughlin.github.io/singles/sin_circles/\" frameborder=\"0\"></iframe>"
   ]
  },
  {
   "cell_type": "markdown",
   "id": "46880026-5757-4c9a-83c0-c7912818cc5f",
   "metadata": {},
   "source": [
    "This repository contains several <a href=\"https://jupyter.org/\" style=\"color: #ff791e\">Jupyter notebooks</a> covering topics in mathematics and its applications.\n",
    "\n",
    "Aimed at undergraduates, students and teachers can interact with the notebooks directly in any modern web browser.\n",
    "\n",
    "The first time you load a notebook it might take a minute to load but subsequent notebooks should load more quickly.\n",
    "\n",
    "<br>"
   ]
  },
  {
   "cell_type": "markdown",
   "id": "92b32ff6-6fca-46dc-aef5-1ccbc20af05e",
   "metadata": {},
   "source": [
    "<h3 style=\"color: rgb(0, 91, 94);\">\n",
    "    <a style=\"color: rgb(0, 91, 94);\" href=\"https://ianmcloughlin.github.io/hed4notebooks/retro/notebooks/?path=about_notebooks.ipynb\">About Jupyter Notebooks\n",
    "    </a>\n",
    "</h3>\n",
    "\n",
    "<hr style=\"border-top: 1px solid rgb(0, 91, 94);\" />\n",
    "\n",
    "<a style=\"color: rgb(0, 91, 94);\" href=\"https://ianmcloughlin.github.io/hed4notebooks/retro/notebooks/?path=about_notebooks.ipynb\">This notebook is all about Jupyter notebooks, the technology that enables this site.</a>\n"
   ]
  },
  {
   "cell_type": "markdown",
   "id": "98cec888-cf1d-489f-be7b-b9bf370dafae",
   "metadata": {},
   "source": [
    "\n",
    "<h3 style=\"color: rgb(0, 91, 94);\">\n",
    "    <a style=\"color: rgb(0, 91, 94);\" href=\"https://ianmcloughlin.github.io/hed4notebooks/retro/notebooks/?path=monty_hall_win_a_car.ipynb\">Win a Car\n",
    "    </a>\n",
    "</h3>\n",
    "\n",
    "<hr style=\"border-top: 1px solid rgb(0, 91, 94);\" />\n",
    "\n",
    "\n",
    "<a style=\"color: rgb(0, 91, 94);\">This notebook is designed to help you feel comfortable interacting with a notebook. It also serves as an introduction to a famous problem in probability.</a>"
   ]
  },
  {
   "cell_type": "markdown",
   "id": "ed62dcc1-c4eb-4b79-ac22-900c0284fb1d",
   "metadata": {},
   "source": [
    "<h3 style=\"color: rgb(0, 91, 94);\">\n",
    "    <a style=\"color: rgb(0, 91, 94);\" href=\"https://ianmcloughlin.github.io/hed4notebooks/retro/notebooks/?path=monty_hall_analysis.ipynb\">The Monty Hall Problem\n",
    "    </a>\n",
    "</h3>\n",
    "\n",
    "<hr style=\"border-top: 1px solid rgb(0, 91, 94);\" />\n",
    "\n",
    "\n",
    "<a style=\"color: rgb(0, 91, 94);\">This notebook analyses the famous Monty Hall problem in probability.</a>"
   ]
  },
  {
   "cell_type": "markdown",
   "id": "f7aa8d1b-a08b-4a1d-8409-4cb74a30480d",
   "metadata": {},
   "source": [
    "<h3 style=\"color: rgb(0, 91, 94);\">\n",
    "    <a style=\"color: rgb(0, 91, 94);\" href=\"https://ianmcloughlin.github.io/hed4notebooks/retro/notebooks/?path=coin_flipping.ipynb\">Coin Flipping\n",
    "    </a>\n",
    "</h3>\n",
    "\n",
    "<hr style=\"border-top: 1px solid rgb(0, 91, 94);\" />\n",
    "\n",
    "\n",
    "<a style=\"color: rgb(0, 91, 94);\">Probabilities and generating random events.</a>"
   ]
  },
  {
   "cell_type": "markdown",
   "id": "1943d75f-0f29-45a8-ad5d-e27ab25d3ce6",
   "metadata": {},
   "source": [
    "<h3 style=\"color: rgb(0, 91, 94);\">\n",
    "    <a style=\"color: rgb(0, 91, 94);\" href=\"https://ianmcloughlin.github.io/hed4notebooks/retro/notebooks/?path=lady_tasting_tea.ipynb\">Lady Tasting Tea\n",
    "    </a>\n",
    "</h3>\n",
    "\n",
    "<hr style=\"border-top: 1px solid rgb(0, 91, 94);\" />\n",
    "\n",
    "\n",
    "<a style=\"color: rgb(0, 91, 94);\">An introduction to hypthesis testing.</a>\n"
   ]
  },
  {
   "cell_type": "markdown",
   "id": "e8c321c9-ab23-41fb-b06b-fad77485f8d2",
   "metadata": {},
   "source": [
    "<h3 style=\"color: rgb(0, 91, 94);\">\n",
    "    <a style=\"color: rgb(0, 91, 94);\" href=\"https://ianmcloughlin.github.io/hed4notebooks/retro/notebooks/?path=ttest.ipynb\">t-Tests\n",
    "    </a>\n",
    "</h3>\n",
    "\n",
    "<hr style=\"border-top: 1px solid rgb(0, 91, 94);\" />\n",
    "\n",
    "\n",
    "<a style=\"color: rgb(0, 91, 94);\">An introduction to t-tests.</a>"
   ]
  },
  {
   "cell_type": "markdown",
   "id": "26ffef0e-81f5-4233-99f8-4ea238000246",
   "metadata": {},
   "source": [
    "<h3 style=\"color: rgb(0, 91, 94);\">\n",
    "    <a style=\"color: rgb(0, 91, 94);\" href=\"https://ianmcloughlin.github.io/hed4notebooks/retro/notebooks/?path=data_types.ipynb\">Data Types\n",
    "    </a>\n",
    "</h3>\n",
    "\n",
    "<hr style=\"border-top: 1px solid rgb(0, 91, 94);\" />\n",
    "\n",
    "\n",
    "<a style=\"color: rgb(0, 91, 94);\">All about the common data types we use.</a>"
   ]
  },
  {
   "cell_type": "markdown",
   "id": "125ef7a3-0452-419b-8295-6adf3bb17461",
   "metadata": {},
   "source": [
    "<h3 style=\"color: rgb(0, 91, 94);\">\n",
    "    <a style=\"color: rgb(0, 91, 94);\" href=\"https://ianmcloughlin.github.io/hed4notebooks/retro/notebooks/?path=complex_numbers.ipynb\">Complex Numbers\n",
    "    </a>\n",
    "</h3>\n",
    "\n",
    "<hr style=\"border-top: 1px solid rgb(0, 91, 94);\" />\n",
    "\n",
    "\n",
    "<a style=\"color: rgb(0, 91, 94);\">The basic concepts behind complex numbers.</a>"
   ]
  },
  {
   "cell_type": "markdown",
   "id": "38e2d6db-986f-46f9-9ba1-6f4b5cc2b2a9",
   "metadata": {},
   "source": [
    "<h3 style=\"color: rgb(0, 91, 94);\">\n",
    "    <a style=\"color: rgb(0, 91, 94);\" href=\"https://ianmcloughlin.github.io/hed4notebooks/retro/notebooks/?path=waves.ipynb\">Waves\n",
    "    </a>\n",
    "</h3>\n",
    "\n",
    "<hr style=\"border-top: 1px solid rgb(0, 91, 94);\" />\n",
    "\n",
    "\n",
    "<a style=\"color: rgb(0, 91, 94);\">A notebook about waves - sin waves, cos waves, and their friends.</a>"
   ]
  },
  {
   "cell_type": "markdown",
   "id": "9920a85e-a425-4407-a264-070e9178aed0",
   "metadata": {},
   "source": [
    "<h3 style=\"color: rgb(0, 91, 94);\">\n",
    "    <a style=\"color: rgb(0, 91, 94);\" href=\"https://ianmcloughlin.github.io/hed4notebooks/retro/notebooks/?path=plots.ipynb\">Growth Rates\n",
    "    </a>\n",
    "</h3>\n",
    "\n",
    "<hr style=\"border-top: 1px solid rgb(0, 91, 94);\" />\n",
    "\n",
    "\n",
    "<a style=\"color: rgb(0, 91, 94);\">Analysing the growth rates of different functions.</a>"
   ]
  },
  {
   "cell_type": "markdown",
   "id": "2a33fab3-fd65-4828-ae40-c1c03da4f74f",
   "metadata": {},
   "source": [
    "<h3 style=\"color: rgb(0, 91, 94);\">\n",
    "    <a style=\"color: rgb(0, 91, 94);\" href=\"https://ianmcloughlin.github.io/hed4notebooks/retro/notebooks/?path=simple_linear_regression.ipynb\">Simple Linear Regression\n",
    "    </a>\n",
    "</h3>\n",
    "\n",
    "<hr style=\"border-top: 1px solid rgb(0, 91, 94);\" />\n",
    "\n",
    "\n",
    "<a style=\"color: rgb(0, 91, 94);\">An introduction to regression.</a>"
   ]
  },
  {
   "cell_type": "markdown",
   "id": "a656219e-651e-4ffc-a1e0-14be7052f313",
   "metadata": {},
   "source": [
    "<h3 style=\"color: rgb(0, 91, 94);\">\n",
    "    <a style=\"color: rgb(0, 91, 94);\" href=\"https://ianmcloughlin.github.io/hed4notebooks/retro/notebooks/?path=permutations.ipynb\">Permutations\n",
    "    </a>\n",
    "</h3>\n",
    "\n",
    "<hr style=\"border-top: 1px solid rgb(0, 91, 94);\" />\n",
    "\n",
    "\n",
    "<a style=\"color: rgb(0, 91, 94);\">Generating permutations.</a>\n"
   ]
  },
  {
   "cell_type": "markdown",
   "id": "362326be-070c-4863-9bb2-e2b10df67bb6",
   "metadata": {},
   "source": [
    "<hr style=\"border-top: 1px solid rgb(0, 91, 94);\" />\n",
    "\n",
    "<h2 style=\"color: rgb(0, 91, 94);\">End</h2>"
   ]
  }
 ],
 "metadata": {
  "kernelspec": {
   "display_name": "Python 3 (ipykernel)",
   "language": "python",
   "name": "python3"
  },
  "language_info": {
   "codemirror_mode": {
    "name": "ipython",
    "version": 3
   },
   "file_extension": ".py",
   "mimetype": "text/x-python",
   "name": "python",
   "nbconvert_exporter": "python",
   "pygments_lexer": "ipython3",
   "version": "3.9.13"
  }
 },
 "nbformat": 4,
 "nbformat_minor": 5
}
