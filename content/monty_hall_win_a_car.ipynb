{
 "cells": [
  {
   "cell_type": "markdown",
   "metadata": {},
   "source": [
    "<h1 style=\"color: rgb(0, 91, 94);\">Win a Car</h1>\n",
    "\n",
    "<hr style=\"border-top: 1px solid rgb(0, 91, 94);\" />\n",
    "\n",
    "\n",
    "In this notebook, you will learn about a famous probability problem. Once you get to the end you should be able to:\n",
    "\n",
    "1. Explain the problem.\n",
    "2. Consider the problem from a probabilistic point of view.\n",
    "3. Run an instance of the problem using code.\n",
    "4. Explain how probability relates to the real world.\n",
    "\n",
    "<img src=\"https://upload.wikimedia.org/wikipedia/commons/4/4c/Goat_in_a_car.jpg\" style=\"border: 1px solid #ff791e\" width=\"400px\">"
   ]
  },
  {
   "cell_type": "markdown",
   "metadata": {},
   "source": [
    "<h2 style=\"color: rgb(0, 91, 94);\">Purpose</h2>\n",
    "\n",
    "<hr style=\"border-top: 1px solid rgb(0, 91, 94);\" />\n",
    "\n",
    "In this notebook you'll simulate playing a simple game of chance in which you are asked to make two choices.\n",
    "\n",
    "Please don't Google the game before you get through the whole notebook."
   ]
  },
  {
   "cell_type": "markdown",
   "metadata": {},
   "source": [
    "<h2 style=\"color: rgb(0, 91, 94);\">Running the Notebook</h2>\n",
    "\n",
    "<hr style=\"border-top: 1px solid rgb(0, 91, 94);\" />\n",
    "\n",
    "This is a Jupyter notebook.\n",
    "\n",
    "The notebook should be run in one session from top to bottom.\n",
    "\n",
    "If you mess up at any stage, you can click `Restart & Clear All Outputs...` from the `Kernel` menu at the top."
   ]
  },
  {
   "cell_type": "markdown",
   "metadata": {},
   "source": [
    "<h2 style=\"color: rgb(0, 91, 94);\">Background</h2>\n",
    "\n",
    "<hr style=\"border-top: 1px solid rgb(0, 91, 94);\" />\n",
    "\n",
    "The game we are going to play is adapted from an old TV show.\n",
    "\n",
    "The contestant is given the opportunity to win a car.\n",
    "\n",
    "<br>\n",
    "\n",
    "They are presented with three closed doors: A, B and C.\n",
    "\n",
    "A car has been randomly placed behind one of the doors.\n",
    "\n",
    "Each of the other two doors have a goat behind them.\n",
    "\n",
    "All the contestant has to do is pick a door to open, hopefully the one with the car.\n",
    "\n",
    "<img src=\"https://github.com/ianmcloughlin/images/raw/master/monty-closed.png\" width=\"400px\">"
   ]
  },
  {
   "cell_type": "markdown",
   "metadata": {},
   "source": [
    "<h2 style=\"color: rgb(0, 91, 94);\">Variables</h2>\n",
    "\n",
    "<hr style=\"border-top: 1px solid rgb(0, 91, 94);\" />\n",
    "\n",
    "To begin, I'd like you to set each of the following three variables to either `True` or `False` in the cell below.\n",
    "\n",
    "Please don't Google anything for now - just use the information currently in your head.\n",
    "\n",
    "Remember, this is just a bit of fun.\n",
    "\n",
    "\n",
    "- Set `einstein` to `True` if you have ever heard of someone called Albert Einstein, `False` otherwise.\n",
    "- Set `monty` to `True` if you have ever heard of someone called Monty Hall, `False` otherwise.\n",
    "- Set `savant` to `True` if you have ever heard of someone called Marilyn vos Savant, `False` otherwise.\n",
    "\n",
    "So, if you know who Einstein is but not Monty Hall or Marilyn vos Savant then type the following in the cell below and press Shift+Enter.\n",
    "\n",
    "```python\n",
    "einstein = True\n",
    "monty    = False\n",
    "savant   = False\n",
    "```"
   ]
  },
  {
   "cell_type": "code",
   "execution_count": null,
   "metadata": {},
   "outputs": [],
   "source": [
    "# Set these variables as described above.\n",
    "einstein = \n",
    "monty    = \n",
    "savant   = "
   ]
  },
  {
   "cell_type": "markdown",
   "metadata": {},
   "source": [
    "<h2 style=\"color: rgb(0, 91, 94);\">Quick Check 1</h2>\n",
    "\n",
    "<hr style=\"border-top: 1px solid rgb(0, 91, 94);\" />\n",
    "\n",
    "Run the cell below to make sure everything at this point is running okay."
   ]
  },
  {
   "cell_type": "code",
   "execution_count": null,
   "metadata": {},
   "outputs": [],
   "source": [
    "# Assume everything is running okay.\n",
    "aok = True\n",
    "\n",
    "# Make sure the einstein variable is set to True or False.\n",
    "try:\n",
    "    if einstein not in [True, False]:\n",
    "        print(\"Error: please set the einstein variable to either True or False!\")\n",
    "        aok = False\n",
    "except NameError:\n",
    "    print(\"Error: please set the einstein variable to either True or False!\")\n",
    "    aok = False\n",
    "\n",
    "# Make sure the monty variable is set to True or False.\n",
    "try:\n",
    "    if monty not in [True, False]:\n",
    "        print(\"Error: please set the monty variable to either True or False!\")\n",
    "        aok = False\n",
    "except NameError:\n",
    "    print(\"Error: please set the monty variable to either True or False!\")\n",
    "    aok = False\n",
    "\n",
    "# Make sure the savant variable is set to True or False.\n",
    "try:\n",
    "    if savant not in [True, False]:\n",
    "        print(\"Error: please set the savant variable to either True or False!\")\n",
    "        aok = False\n",
    "except NameError:\n",
    "    print(\"Error: please set the savant variable to either True or False!\")\n",
    "    aok = False\n",
    "\n",
    "# If there are no problems, print a statement to continue.\n",
    "if aok:\n",
    "    print(\"Quick Check 1: everything is running okay, please continue.\")"
   ]
  },
  {
   "cell_type": "markdown",
   "metadata": {},
   "source": [
    "<h2 style=\"color: rgb(0, 91, 94);\">Beginning the Game</h2>\n",
    "\n",
    "<hr style=\"border-top: 1px solid rgb(0, 91, 94);\" />\n",
    "\n",
    "Below is some Python code to generate a random choice between three doors as pictured above: A, B, or C.\n",
    "\n",
    "The code will randomly choose one of the doors to put the car behind.\n",
    "\n",
    "There's no cheating here - the car is as likely to be behind any one of the doors.\n",
    "\n",
    "<br>\n",
    "\n",
    "The door with the car is stored in the variable `car`.\n",
    "\n",
    "Door A is indicated by `'A'`, door B by `'B'`, and door C by `'C'`.\n",
    "\n",
    "Please don't look at the value of the `car` variable, at least until the game is over.\n",
    "\n",
    "If you re-run the cell you will again randomly select a door - possibly the same, possibly different."
   ]
  },
  {
   "cell_type": "code",
   "execution_count": null,
   "metadata": {},
   "outputs": [],
   "source": [
    "# Python provides a library called random to generate pseudo-random numbers.\n",
    "import random\n",
    "\n",
    "# The three doors in a list.\n",
    "doors = ['A', 'B', 'C']\n",
    "\n",
    "# Pick a random door.\n",
    "car = random.choice(doors)\n",
    "\n",
    "# Tell the user we've picked.\n",
    "print(\"From Python: I've randomly selected a door to put the car behind.\")"
   ]
  },
  {
   "cell_type": "markdown",
   "metadata": {},
   "source": [
    "<h2 style=\"color: rgb(0, 91, 94);\">Your First Choice</h2>\n",
    "\n",
    "<hr style=\"border-top: 1px solid rgb(0, 91, 94);\" />\n",
    "\n",
    "In the cell above, Python randomly selected a door to put the car behind.\n",
    "\n",
    "This implys there are goats behind the other two doors.\n",
    "\n",
    "<br>\n",
    "\n",
    "Now come the first of two choices you will make as the contestant.\n",
    "\n",
    "Pick the door that you think the car might be behind.\n",
    "\n",
    "To indicate your preference, in the cell below set the variable `pick` to `'A'` if you want door A, `'B'` for door B or `'C'` for door C.\n",
    "\n",
    "<br>\n",
    "\n",
    "You are being asked to guess what door Python might have chosen - it's just a guess."
   ]
  },
  {
   "cell_type": "code",
   "execution_count": null,
   "metadata": {},
   "outputs": [],
   "source": [
    "# Pick one of three doors: 'A', 'B' or 'C'. Don't forget the quotes.\n",
    "pick = "
   ]
  },
  {
   "cell_type": "markdown",
   "metadata": {},
   "source": [
    "<h2 style=\"color: rgb(0, 91, 94);\">Quick Check 2</h2>\n",
    "\n",
    "<hr style=\"border-top: 1px solid rgb(0, 91, 94);\" />\n",
    "\n",
    "Run the cell below to make sure everything at this point is running okay."
   ]
  },
  {
   "cell_type": "code",
   "execution_count": null,
   "metadata": {},
   "outputs": [],
   "source": [
    "# Assume everything is running okay.\n",
    "aok = True\n",
    "\n",
    "# Make sure car is set to a door.\n",
    "try:\n",
    "    if car not in doors:\n",
    "        print(\"Error: please set the car variable to one of 'A', 'B' or 'C'!\")\n",
    "        aok = False\n",
    "except NameError:\n",
    "    print(\"Error: please set the car variable to one of 'A', 'B' or 'C'!\")\n",
    "    aok = False\n",
    "\n",
    "# Make sure pick is set to a door.\n",
    "try:\n",
    "    if pick not in doors:\n",
    "        print(\"Error: please set the pick variable to one of 'A', 'B' or 'C'!\")\n",
    "        aok = False\n",
    "except NameError:\n",
    "    print(\"Error: please set the pick variable to one of 'A', 'B' or 'C'!\")\n",
    "    aok = False\n",
    "\n",
    "# If there are no problems, print a statement to continue.\n",
    "if aok:\n",
    "    print(\"Quick Check 2: everything is running okay, please continue.\")"
   ]
  },
  {
   "cell_type": "markdown",
   "metadata": {},
   "source": [
    "<h2 style=\"color: rgb(0, 91, 94);\">Plot Twist</h2>\n",
    "\n",
    "<hr style=\"border-top: 1px solid rgb(0, 91, 94);\" />\n",
    "\n",
    "<img src=\"https://ichef.bbci.co.uk/news/800/cpsprodpb/C271/production/_98677794_gettyimages-486869012.jpg\"  style=\"border: 1px solid #ff791e\" width=\"400px\">\n",
    "\n",
    "The car has been randomly placed behind one of the doors.\n",
    "\n",
    "You have selected the door you think it might be behind.\n",
    "\n",
    "Next, the host throws in a twist.\n",
    "\n",
    "<br>\n",
    "\n",
    "They open one of the two doors you have not picked and shows you the goat behind it.\n",
    "\n",
    "Note there is a goat behind at least one of those two doors and possibly both.\n",
    "\n",
    "The producers know where the car is and they make sure the host opens a door with a goat behind it.\n",
    "\n",
    "Run the cell below to simulate the host opening one of the doors."
   ]
  },
  {
   "cell_type": "code",
   "execution_count": null,
   "metadata": {},
   "outputs": [],
   "source": [
    "# Pick a random door that was neither picked by the contestant nor has the car behind it.\n",
    "show = random.choice([door for door in doors if door != car and door != pick])\n",
    "\n",
    "# Figure out which door was not opened or picked.\n",
    "notopen = [door for door in doors if door != pick and door != show][0]\n",
    "\n",
    "# What the host says.\n",
    "print(\"\\nHost:\")\n",
    "print(f\"\"\"\n",
    "You chose the {pick} door. The producers have told me I can reveal to you that there is a goat behind door {show}.\n",
    "My question to you now is this: do you want to stick with door {pick} or do you want to switch to door {notopen}?\n",
    "\"\"\")"
   ]
  },
  {
   "cell_type": "markdown",
   "metadata": {},
   "source": [
    "<h2 style=\"color: rgb(0, 91, 94);\">Your Second Choice</h2>\n",
    "\n",
    "<hr style=\"border-top: 1px solid rgb(0, 91, 94);\" />\n",
    "\n",
    "So, the host asks if you want to stick with your current door or change to the remaining door that you have not picked and they have not opened.\n",
    "\n",
    "Once you make your decision, all doors will be opened to reveal which one has the car behind it.\n",
    "\n",
    "In the next cell, indicate whether you will stay with your current choice of door or switch by setting the `stay` variable to `True` or `False`.\n",
    "\n",
    "- Set `stay` to `True` if you would like to stick with your current choice of door.\n",
    "- Set `stay` to `False` if you would like to switch to the other door offered by the host."
   ]
  },
  {
   "cell_type": "code",
   "execution_count": null,
   "metadata": {},
   "outputs": [],
   "source": [
    "# You want to stay with your current door: True or False?\n",
    "stay = "
   ]
  },
  {
   "cell_type": "markdown",
   "metadata": {},
   "source": [
    "<h2 style=\"color: rgb(0, 91, 94);\">Quick Check 3</h2>\n",
    "\n",
    "<hr style=\"border-top: 1px solid rgb(0, 91, 94);\" />\n",
    "\n",
    "Run the cell below to make sure everything at this point is running okay."
   ]
  },
  {
   "cell_type": "code",
   "execution_count": null,
   "metadata": {},
   "outputs": [],
   "source": [
    "# Assume everything is running okay.\n",
    "aok = True\n",
    "\n",
    "# Make sure the stay variable is set to True or False.\n",
    "try:\n",
    "    if stay not in [True, False]:\n",
    "        print(\"Error: please set the stay variable to either True or False!\")\n",
    "        aok = False\n",
    "except NameError:\n",
    "    print(\"Error: please set the stay variable to either True or False!\")\n",
    "    aok = False\n",
    "\n",
    "# If there are no problems, print a statement to continue.\n",
    "if aok:\n",
    "    print(\"Quick Check 3: everything is running okay, please continue.\")"
   ]
  },
  {
   "cell_type": "markdown",
   "metadata": {},
   "source": [
    "<h2 style=\"color: rgb(0, 91, 94);\">The Big Reveal</h2>\n",
    "\n",
    "<hr style=\"border-top: 1px solid rgb(0, 91, 94);\" />\n",
    "\n",
    "Run the cell below to see if you would have won the car.\n",
    "\n",
    "Remember it's just a bit of fun so it doesn't matter whether or not you won."
   ]
  },
  {
   "cell_type": "code",
   "execution_count": null,
   "metadata": {},
   "outputs": [],
   "source": [
    "# Tell the user which door was opened by the host.\n",
    "print()\n",
    "print(\"Host:\")\n",
    "print(f\"\"\"\n",
    "You originally picked the {pick} door and I showed you there was a goat behind the {show} door.\n",
    "I asked you if you wanted to stay with the {pick} door or change to the {notopen} door.\n",
    "You decided to {'stay' if stay else 'change'}.\n",
    "I can now reveal to you that the car was behind the {car} door.\n",
    "You have {'won' if car == [pick, notopen][not stay] else 'not won'}.\n",
    "\"\"\")"
   ]
  },
  {
   "cell_type": "markdown",
   "metadata": {},
   "source": [
    "<h2 style=\"color: rgb(0, 91, 94);\">A Question of Probability</h2>\n",
    "\n",
    "<hr style=\"border-top: 1px solid rgb(0, 91, 94);\" />\n",
    "\n",
    "The game show above was the source of some controversy in 1990's.\n",
    "\n",
    "The controversy surrounded the question of whether the contestant could do anything to improve their chances of winning the car.\n",
    "\n",
    "There was no suggestion of foul play by the gameshow host or producers.\n",
    "\n",
    "Rather, the question surrounded the decision the contestant makes after the plot twist.\n",
    "\n",
    "Does it make any difference whether the contestant switches to the other door or not?\n",
    "\n",
    "Is the probability of winning the game the same irrespective of what the contestant does?\n",
    "\n",
    "That will be the discussion of another notebook."
   ]
  },
  {
   "cell_type": "markdown",
   "metadata": {},
   "source": [
    "<hr style=\"border-top: 1px solid rgb(0, 91, 94);\" />\n",
    "\n",
    "<h2 style=\"color: rgb(0, 91, 94);\">End</h2>"
   ]
  }
 ],
 "metadata": {
  "kernelspec": {
   "display_name": "Python 3 (ipykernel)",
   "language": "python",
   "name": "python3"
  },
  "language_info": {
   "codemirror_mode": {
    "name": "ipython",
    "version": 3
   },
   "file_extension": ".py",
   "mimetype": "text/x-python",
   "name": "python",
   "nbconvert_exporter": "python",
   "pygments_lexer": "ipython3",
   "version": "3.9.13"
  }
 },
 "nbformat": 4,
 "nbformat_minor": 4
}
