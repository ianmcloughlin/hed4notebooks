{
 "cells": [
  {
   "cell_type": "markdown",
   "metadata": {},
   "source": [
    "# The Monty Hall Problem\n",
    "\n",
    "***\n",
    "\n",
    "\n",
    "In this notebook, you will analyse the Monty Hall Problem.\n",
    "\n",
    "We will:\n",
    "\n",
    "1. Explain the Monty Hall Problem.\n",
    "2. Simulate the game using code.\n",
    "3. Run a simulation experiment to infer properties of the problem.\n",
    "4. Visualise the results."
   ]
  },
  {
   "cell_type": "markdown",
   "metadata": {},
   "source": [
    "## The Problem\n",
    "\n",
    "***\n",
    "\n",
    "\n",
    "The [Monty Hall problem](https://en.wikipedia.org/wiki/Monty_Hall_problem) was a source of great controversy in the 1990's.\n",
    "\n",
    "The problem is based on an American TV show called Let's Make a Deal, hosted by Monty Hall.\n",
    "\n",
    "The details of the show are simplified in the problem.\n",
    "\n",
    "<img src=\"https://upload.wikimedia.org/wikipedia/commons/thumb/4/48/Monty_hall_abc_tv.JPG/184px-Monty_hall_abc_tv.JPG\" style=\"border: 1px solid #ff791e; text-align: left; margin: 10px;\" width=\"200px\">\n",
    "\n",
    "\n",
    "In the simplified version there are three closed doors.\n",
    "\n",
    "One has a car behind it, and the other two have goats.\n",
    "\n",
    "The constestant is asked to pick a door and they will win whatever is behind it.\n",
    "\n",
    "It is assumed the contestant would prefer the car to either of the goats."
   ]
  },
  {
   "cell_type": "markdown",
   "metadata": {},
   "source": [
    "## The Controversy\n",
    "\n",
    "***\n",
    "\n",
    "The source of the controversy is the plot twist just before the contestant's door is opened.\n",
    "\n",
    "One of the other two doors is opened to reveal a goat.\n",
    "\n",
    "The contestant is then given the chance to switch to the third door or remain with their original door.\n",
    "\n",
    "<img src=\"https://github.com/ianmcloughlin/images/raw/master/mvs.jpeg\" style=\"border: 1px solid #ff791e\" width=\"200px\">\n",
    "\n",
    "The controversy surrounds [Marilyn vos Savant's](https://en.wikipedia.org/wiki/Monty_Hall_problem) claim that the contestant should always switch.\n",
    "\n",
    "She claimed, in an article in the 1990's, that the probability of winning after switching is two thirds but only one third without switching.\n",
    "\n",
    "Most people think the chances are rather fifty-fifty.\n",
    "\n",
    "<br>\n",
    "\n",
    "In this notebook, we are going to simulate the game to see who is right."
   ]
  },
  {
   "cell_type": "markdown",
   "metadata": {},
   "source": [
    "## Assumptions\n",
    "\n",
    "***\n",
    "\n",
    "The main assumption we are going to make is that the game is fair.\n",
    "\n",
    "Before the game starts, one of the three doors is selected at random and the car is placed behind it.\n",
    "\n",
    "Goats are placed behind the other two doors.\n",
    "\n",
    "The producers do not move the car at any point after this, irrespective of what happens.\n",
    "\n",
    "By placing the car *at random* we mean that they give a one third chance of the car ending up behind any given door.\n",
    "\n",
    "Maybe they use a computer to select the door or have some other fair way.\n",
    "\n",
    "<br>\n",
    "\n",
    "Once they do select the door, the producers themselves will obviously know where it is.\n",
    "\n",
    "They have to put the car there, and later in the game they have to select another door to open to reveal a goat.\n",
    "\n",
    "Note that when they do open one of the two doors that the contestant has not picked, there is always a goat behind at least one of the two doors.\n",
    "\n",
    "There might be a goat behind both - that is when the contestant's original door has the car behind it.\n",
    "\n",
    "<br>\n",
    "\n",
    "<img src=\"https://raw.githubusercontent.com/ianmcloughlin/images/master/goat.jpg\" style=\"border: 1px solid #ff791e\" width=\"300px\">\n",
    "\n",
    "\n",
    "Finally, we will also assume that the goats are well behaved and do not make any noise behind the doors.\n",
    "\n",
    "Anyone who knows anything about goats will realise that this is the least credible assumption.\n",
    "\n",
    "In all seriousness though, we will assume that the contestant gets no extra information about where the car might be.\n",
    "\n",
    "They really are picking at random."
   ]
  },
  {
   "cell_type": "markdown",
   "metadata": {},
   "source": [
    "## Random Door\n",
    "\n",
    "***\n",
    "\n",
    "The first step in simulating the game will be to write code to select one of the three doors at random.\n",
    "\n",
    "For this, we will use Python's `random` module from the standard library.\n",
    "\n",
    "See [Real Python's Generating Random Data in Python](https://realpython.com/python-random/) for more information."
   ]
  },
  {
   "cell_type": "code",
   "execution_count": 1,
   "metadata": {},
   "outputs": [
    {
     "name": "stdout",
     "output_type": "stream",
     "text": [
      "C\n"
     ]
    }
   ],
   "source": [
    "# Python provides a library called random to generate pseudo-random numbers and do stuff with them.\n",
    "import random\n",
    "\n",
    "# The three doors in a list.\n",
    "doors = ['A', 'B', 'C']\n",
    "\n",
    "# Pick a random door.\n",
    "print(random.choice(doors))"
   ]
  },
  {
   "cell_type": "markdown",
   "metadata": {},
   "source": [
    "## Checking the Randomness\n",
    "\n",
    "***\n",
    "\n",
    "The pick is meant to give a one third probability to each door.\n",
    "\n",
    "Let us run the code 10,000 times and plot the results.\n",
    "\n",
    "If each door is picked with a probability of one third, we should get approximately 3,333 of each door selected.\n",
    "\n",
    "We will allow for some variation - after it is random."
   ]
  },
  {
   "cell_type": "code",
   "execution_count": 2,
   "metadata": {},
   "outputs": [
    {
     "name": "stdout",
     "output_type": "stream",
     "text": [
      "First ten items:  ['C', 'C', 'C', 'B', 'B', 'B', 'B', 'C', 'C', 'C']\n",
      "Out of the 10000 selection: 3311 were door A, 3398 were door B, and 3291 were door C.\n"
     ]
    }
   ],
   "source": [
    "# The number time we will select a door at random.\n",
    "no_doors = 10000\n",
    "\n",
    "# Run the selection.\n",
    "selections = [random.choice(doors) for i in range(no_doors)]\n",
    "\n",
    "# Count the number of times door A is selected.\n",
    "A = selections.count('A')\n",
    "# Count the number of times door B is selected.\n",
    "B = selections.count('B')\n",
    "# Count the number of times door C is selected.\n",
    "C = selections.count('C')\n",
    "\n",
    "# Let us have a look at the first ten doors selected, just for curiousity.\n",
    "print(\"First ten items: \", selections[:10])\n",
    "\n",
    "# Now let us print the number of times each door was selected.\n",
    "print(f\"Out of the {no_doors} selection: {A} were door A, {B} were door B, and {C} were door C.\")"
   ]
  },
  {
   "cell_type": "markdown",
   "metadata": {},
   "source": [
    "Let's use a bar chart to visualise this."
   ]
  },
  {
   "cell_type": "code",
   "execution_count": 3,
   "metadata": {},
   "outputs": [],
   "source": [
    "# We'll just use pyplot for plotting.\n",
    "import matplotlib.pyplot as plt\n",
    "\n",
    "# Change the way plots look.\n",
    "plt.style.use('ggplot')"
   ]
  },
  {
   "cell_type": "code",
   "execution_count": 4,
   "metadata": {},
   "outputs": [
    {
     "data": {
      "image/png": "[encoded data removed]",
      "text/plain": [
       "<Figure size 1400x600 with 1 Axes>"
      ]
     },
     "metadata": {},
     "output_type": "display_data"
    }
   ],
   "source": [
    "# Create a new figure.\n",
    "fig, ax = plt.subplots(figsize=(14,6))\n",
    "\n",
    "# Make the bar chart.\n",
    "ax.barh(['A', 'B', 'C'], [A, B, C], color=['#001a79', '#005b5e', '#ff791e']);"
   ]
  },
  {
   "cell_type": "markdown",
   "metadata": {},
   "source": [
    "## Simulate a Game\n",
    "\n",
    "***"
   ]
  },
  {
   "cell_type": "markdown",
   "metadata": {},
   "source": [
    "Now that we can select a door at random, let us write code to simulate the game.\n",
    "\n",
    "We break the game into the following steps:\n",
    "\n",
    "1. Pick a door to put the car behind.\n",
    "2. Have the contestant pick a door.\n",
    "3. Have the host open one of the other doors to reveal a goat.\n",
    "4. Ask the contestant if they want to switch.\n",
    "5. Figure out whether or not the contestant wins."
   ]
  },
  {
   "cell_type": "code",
   "execution_count": 5,
   "metadata": {},
   "outputs": [],
   "source": [
    "def simulate(switch=False):\n",
    "    \"\"\"A function to simulate a game and tell us if the contestant wins.\n",
    "       The contestant's strategy is to stay with their original choice\n",
    "       if the parameter switch is False, and otherwise they switch.\"\"\"\n",
    "    \n",
    "    # The three doors.\n",
    "    doors = ['A', 'B', 'C']\n",
    "    \n",
    "    # 1. Pick a door to put the car behind.\n",
    "    car = random.choice(doors)\n",
    "    \n",
    "    # 2. Have the contestant pick a door.\n",
    "    pick = random.choice(doors)\n",
    "    \n",
    "    # 3. Have the show host open one of the other doors to reveal a goat.\n",
    "    canopen = [door for door in doors if door != car and door != pick]\n",
    "    show = random.choice(canopen)\n",
    "\n",
    "    # 4. Ask the contestant if they want to switch (specified by parameter).\n",
    "    if switch:\n",
    "        # This is a bit hacky but gets the job done.\n",
    "        pick = [door for door in doors if door != pick and door != show][0]\n",
    "    \n",
    "    # 5. Figure out whether or not the contestant wins.\n",
    "    if pick == car:\n",
    "        return True\n",
    "    else:\n",
    "        return False"
   ]
  },
  {
   "cell_type": "markdown",
   "metadata": {},
   "source": [
    "We can now simulate a game in which the contestant stays with their original pick by running the following.\n",
    "\n",
    "A return value of True means they won the car, False means they didn't."
   ]
  },
  {
   "cell_type": "code",
   "execution_count": 6,
   "metadata": {},
   "outputs": [
    {
     "data": {
      "text/plain": [
       "False"
      ]
     },
     "execution_count": 6,
     "metadata": {},
     "output_type": "execute_result"
    }
   ],
   "source": [
    "simulate(switch=False)"
   ]
  },
  {
   "cell_type": "markdown",
   "metadata": {},
   "source": [
    "We can simulate a game in which the contestant switches with the following code.\n",
    "\n",
    "Again, a return value of True means they won the car, False means they didn't."
   ]
  },
  {
   "cell_type": "code",
   "execution_count": 7,
   "metadata": {},
   "outputs": [
    {
     "data": {
      "text/plain": [
       "True"
      ]
     },
     "execution_count": 7,
     "metadata": {},
     "output_type": "execute_result"
    }
   ],
   "source": [
    "simulate(switch=True)"
   ]
  },
  {
   "cell_type": "markdown",
   "metadata": {},
   "source": [
    "## Simulate Multiple Games\n",
    "\n",
    "***\n",
    "\n",
    "The question we are looking to answer is whether staying with your original pick makes a difference.\n",
    "\n",
    "Let's run the game 10,000 times where the contestant stays.\n",
    "\n",
    "We'll see how often they win."
   ]
  },
  {
   "cell_type": "code",
   "execution_count": 8,
   "metadata": {},
   "outputs": [],
   "source": [
    "# This calls the simulate function 10000 times with switch set to False.\n",
    "staying = [simulate(switch=False) for i in range(10000)]\n",
    "\n",
    "# This is the number of times they win.\n",
    "# We count the number of True's in the list staying.\n",
    "staying_win = staying.count(True)\n",
    "\n",
    "# This is the number of times they lose.\n",
    "# We count the number of False's in the list staying.\n",
    "staying_lose = staying.count(False)"
   ]
  },
  {
   "cell_type": "markdown",
   "metadata": {},
   "source": [
    "Let us plot the results."
   ]
  },
  {
   "cell_type": "code",
   "execution_count": 9,
   "metadata": {},
   "outputs": [
    {
     "data": {
      "image/png": "[encoded data removed]",
      "text/plain": [
       "<Figure size 1200x600 with 1 Axes>"
      ]
     },
     "metadata": {},
     "output_type": "display_data"
    }
   ],
   "source": [
    "# Create a figure.\n",
    "fig, ax = plt.subplots(figsize=(12, 6))\n",
    "\n",
    "# Create the bar chart.\n",
    "ax.barh(['Win', 'Lose'], [staying_win, staying_lose], color=['#005b5e', '#ff791e']);"
   ]
  },
  {
   "cell_type": "markdown",
   "metadata": {},
   "source": [
    "It looks like when the contestant stays, they win only about a third of the time.\n",
    "\n",
    "Now let us run the game 10,000 times where the contestant switches."
   ]
  },
  {
   "cell_type": "code",
   "execution_count": 10,
   "metadata": {},
   "outputs": [],
   "source": [
    "# This calls the simulate function 10,000 times with switch set to True.\n",
    "switching = [simulate(switch=True) for i in range(10000)]\n",
    "\n",
    "# This is the number of times they win.\n",
    "# We count the number of True's in the list switching.\n",
    "switching_win = switching.count(True)\n",
    "\n",
    "# This is the number of times they lose.\n",
    "# We count the number of False's in the list switching.\n",
    "switching_lose = switching.count(False)"
   ]
  },
  {
   "cell_type": "code",
   "execution_count": 11,
   "metadata": {},
   "outputs": [
    {
     "data": {
      "image/png": "[encoded data removed]",
      "text/plain": [
       "<Figure size 1200x600 with 1 Axes>"
      ]
     },
     "metadata": {},
     "output_type": "display_data"
    }
   ],
   "source": [
    "# Create a figure.\n",
    "fig, ax = plt.subplots(figsize=(12, 6))\n",
    "\n",
    "# Create the bar chart.\n",
    "ax.barh(['Win', 'Lose'], [switching_win, switching_lose], color=['#005b5e', '#ff791e']);"
   ]
  },
  {
   "cell_type": "markdown",
   "metadata": {},
   "source": [
    "<br>\n",
    "\n",
    "Looks like you win two thirds of the time if you switch."
   ]
  },
  {
   "cell_type": "markdown",
   "metadata": {},
   "source": [
    "## The Conclusion\n",
    "\n",
    "***\n",
    "\n",
    "It looks like Marilyn vos Savant was right - you should always switch.\n",
    "\n",
    "If you agree the simulation is a true reflection of the game, then we have strong evidence of this.\n",
    "\n",
    "That is the main point of this notebook, that simulating real world problems in code is useful.\n",
    "\n",
    "<br>\n",
    "\n",
    "That said, I am sure you want some intuition as to why the result might be correct.\n",
    "\n",
    "How can we make sense of the better chance of winning if you switch?\n",
    "\n",
    "It seems as though it is a fifty-fifty choice between the two unopened doors.\n",
    "\n",
    "You knew there was a goat behind at least one of the doors you did not pick.\n",
    "\n",
    "So, the host showing you a goat did not surprise you.\n",
    "\n",
    "<br>\n",
    "\n",
    "Well, think of it this way and again the code here is useful.\n",
    "\n",
    "In the game, and in the simulation, each door has a one third chance of having the car behind it.\n",
    "\n",
    "That is locked in at the start and does not change - indeed that is one of our assumptions.\n",
    "\n",
    "If the contestant picks one of the three doors at random, they will be right one third of the time.\n",
    "\n",
    "They will be wrong two thirds of the time.\n",
    "\n",
    "No matter what happens, if you stay with your original door you will win with one third probability."
   ]
  },
  {
   "cell_type": "markdown",
   "metadata": {},
   "source": [
    "***\n",
    "\n",
    "## End"
   ]
  }
 ],
 "metadata": {
  "kernelspec": {
   "display_name": "Python 3 (ipykernel)",
   "language": "python",
   "name": "python3"
  },
  "language_info": {
   "codemirror_mode": {
    "name": "ipython",
    "version": 3
   },
   "file_extension": ".py",
   "mimetype": "text/x-python",
   "name": "python",
   "nbconvert_exporter": "python",
   "pygments_lexer": "ipython3",
   "version": "3.11.5"
  }
 },
 "nbformat": 4,
 "nbformat_minor": 4
}
