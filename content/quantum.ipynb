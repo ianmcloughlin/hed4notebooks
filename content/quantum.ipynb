{
 "cells": [
  {
   "cell_type": "markdown",
   "id": "a52d27c8",
   "metadata": {},
   "source": [
    "### Field\n",
    "\n",
    "***\n",
    "\n",
    "A set $\\mathbb{F}$ with two binary operations, $+$ called addition and $\\times$ called multiplication, such that:\n",
    "\n",
    "1. Associative: $a + (b + c) = (a + b) + c$ and $a \\times (b \\times c) = (a \\times b) \\times c$.\n",
    "2. Commutative: $a + b = b + a$ and $a \\times b = b \\times a$.\n",
    "3. Identity: $\\exists 0 \\in \\mathbb{F} \\  \\forall a \\in \\mathbb{F}: a + 0 = a$ and $\\exists 1 \\in \\mathbb{F} \\  \\forall a \\in \\mathbb{F}: a \\times 1 = a$\n",
    "4. Additive inverse: $\\forall a \\in \\mathbb{F} \\ \\exists b \\in \\mathbb{F}: a + b = 0$, with $b$ written $-a$.\n",
    "5. Multiplicative inverse: $\\forall a (\\neq 0) \\in \\mathbb{F} \\  \\exists b \\in \\mathbb{F}: a \\times b = 1$ with $b$ written $a^{-1}$.\n",
    "6. Distributive: $a \\times (b + c) = (a \\times b) + (a \\times c)$."
   ]
  },
  {
   "cell_type": "markdown",
   "id": "da17f6ee",
   "metadata": {},
   "source": [
    "### Vector Space\n",
    "\n",
    "***\n",
    "\n",
    "Over a field $\\mathbb{F}$, a set $\\mathbb{V}$ with two binary operations, $+$ for called vector addition and juxtaposition of a scalar and a vector called scalar multiplication, such that:\n",
    "\n",
    "1. Associative: $u + (v + w) = (u + v) + w$.\n",
    "2. Commutative: $u + v = v + u$.\n",
    "3. Identity: $\\exists 0 \\in \\mathbb{V} \\  \\forall v \\in \\mathbb{V}: v + 0 = v$ and $\\forall v \\in \\mathbb{V}: 1v = v$ where $1$ is the multiplicative identity of $\\mathbb{F}$.\n",
    "4. Inverse: $\\forall v \\in \\mathbb{V} \\  \\exists w: v + w = 0$ with $w$ written $-v$.\n",
    "5. Compatibile: $\\forall a, b \\in \\mathbb{F} \\ \\forall v \\in \\mathbb{V}: a(bv) = (ab)v$.\n",
    "6. Distributive: $\\forall a, b \\in \\mathbb{F} \\  \\forall u, v \\in \\mathbb{V}: a(u + v) = au + av$ and $(a + b)v = av + bv$."
   ]
  },
  {
   "cell_type": "markdown",
   "id": "f99da0c9",
   "metadata": {},
   "source": [
    "### Inner Product Space\n",
    "\n",
    "***\n",
    "\n",
    "A vector space $\\mathbb{V}$ over a field $\\mathbb{F}$ with an operation, called the inner product, $\\langle \\cdot , \\cdot \\rangle: \\mathbb{V} \\times \\mathbb{V} \\rightarrow \\mathbb{F}$ such that:\n",
    "\n",
    "1. Conjugate symmetry: $\\forall v, w \\in \\mathbb{V}: \\langle v,w \\rangle = \\overline{\\langle w,v \\rangle}$.\n",
    "2. First argument linearity: $\\forall x,y,z \\in \\mathbb{V} \\ \\forall a, b \\in \\mathbb{F}: \\langle ax + by, z \\rangle = a\\langle x, z \\rangle + b \\langle y, z \\rangle$\n",
    "3. Positive definiteness: $\\forall x \\in \\mathbb{V}: \\langle x , x \\rangle > 0$."
   ]
  },
  {
   "cell_type": "markdown",
   "id": "8673c0c1",
   "metadata": {},
   "source": [
    "### Complex Vector Space\n",
    "\n",
    "***\n",
    "\n",
    "$\\mathbb{F} = \\mathbb{C}$"
   ]
  },
  {
   "cell_type": "markdown",
   "id": "0b70e094",
   "metadata": {},
   "source": [
    "### Complex Inner Product Space\n",
    "\n",
    "***\n",
    "\n",
    "$\\mathbb{F} = \\mathbb{C}$"
   ]
  },
  {
   "cell_type": "markdown",
   "id": "56dc6603",
   "metadata": {},
   "source": [
    "### Linear Map\n",
    "\n",
    "***\n",
    "\n",
    "A function $f: \\mathbb{V} \\rightarrow \\mathbb{U}$ where:\n",
    "\n",
    "1. Additivity: $\\forall v_1, v_2 \\in \\mathbb{V}: f(v_1 + v_2) = f(v_1) + f(v_2)$\n",
    "2. Homogeneity: $\\forall v \\in \\mathbb{V} \\  \\forall c \\in \\mathbb{F} : f(cv) = c f(v)$."
   ]
  },
  {
   "cell_type": "markdown",
   "id": "3cdcb8ec",
   "metadata": {},
   "source": [
    "### Hermitian Adjoint\n",
    "\n",
    "***\n",
    "\n",
    "A linear operator $A$ on an inner product space $\\mathbb{V}$ has Hermitian adjoint $A^*$ where:\n",
    "\n",
    "$\\langle A x , y \\rangle = \\langle x , A^* y \\rangle$."
   ]
  },
  {
   "cell_type": "markdown",
   "id": "8faf5a20",
   "metadata": {},
   "source": [
    "### Hilbert Space\n",
    "\n",
    "***\n",
    "\n",
    "A real or complex inner product space that is also a complete metric space with the inner product."
   ]
  },
  {
   "cell_type": "code",
   "execution_count": null,
   "id": "87c9f54d",
   "metadata": {},
   "outputs": [],
   "source": []
  }
 ],
 "metadata": {
  "kernelspec": {
   "display_name": "Python 3 (ipykernel)",
   "language": "python",
   "name": "python3"
  },
  "language_info": {
   "codemirror_mode": {
    "name": "ipython",
    "version": 3
   },
   "file_extension": ".py",
   "mimetype": "text/x-python",
   "name": "python",
   "nbconvert_exporter": "python",
   "pygments_lexer": "ipython3",
   "version": "3.9.13"
  }
 },
 "nbformat": 4,
 "nbformat_minor": 5
}
