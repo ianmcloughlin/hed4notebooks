{
 "cells": [
  {
   "cell_type": "markdown",
   "metadata": {
    "id": "28wCoEERmt-F"
   },
   "source": [
    "# Permutations\n",
    "\n",
    "***\n",
    "\n",
    "\n",
    "In this notebook, you will learn about permutations. \n",
    "\n",
    "We will:\n",
    "\n",
    "1. Explain what permutations are.\n",
    "2. Describe common scenarios where permutations arise.\n",
    "3. Use code the generate permutations.\n",
    "4. Visualise the results."
   ]
  },
  {
   "cell_type": "code",
   "execution_count": 1,
   "metadata": {
    "id": "uUj5l-O8qt3-"
   },
   "outputs": [],
   "source": [
    "# A list of five (distinct) elements.\n",
    "L = [1, 2, 3, 4, 5]"
   ]
  },
  {
   "cell_type": "code",
   "execution_count": 2,
   "metadata": {
    "id": "vRgf7bpsrdIJ"
   },
   "outputs": [],
   "source": [
    "# A permutation of the list L.\n",
    "M = [2, 1, 3, 4, 5]"
   ]
  },
  {
   "cell_type": "code",
   "execution_count": 3,
   "metadata": {
    "id": "PTIEqtkvrp7P"
   },
   "outputs": [],
   "source": [
    "# Another permutation.\n",
    "N = [5, 2, 1, 3, 4]"
   ]
  },
  {
   "cell_type": "markdown",
   "metadata": {
    "id": "onGSIeVKr8uy"
   },
   "source": [
    "## How many permutations?\n",
    "\n",
    "***"
   ]
  },
  {
   "cell_type": "markdown",
   "metadata": {},
   "source": [
    "Suppose we have five blank spaces in which to put the elements of L.\n",
    "\n",
    "$\\begin{array}{|c|c|c|c|c|} \\hline ? & ? & ? & ? & ? \\\\ \\hline \\end{array}$\n",
    "\n",
    "In the first position, we can put any of the five elements.\n",
    "\n",
    "$\\begin{array}{|c|c|c|c|c|} \\hline 3 & ? & ? & ? & ? \\\\ \\hline \\end{array}$\n",
    "\n",
    "If we put 3 in the first position, then we have four elements remaining\n",
    "to choose from for the second position.\n",
    "\n",
    "$\\begin{array}{|c|c|c|c|c|} \\hline 3 & 5 & ? & ? & ? \\\\ \\hline \\end{array}$\n",
    "\n",
    "Then we have three elements left, and so on.\n",
    "\n",
    "So, there are five choices for the first position.\n",
    "\n",
    "For each of those choices there are four different choices for the second position.\n",
    "\n",
    "Then for the third position there are three choices for each of those.\n",
    "\n",
    "And so on."
   ]
  },
  {
   "cell_type": "code",
   "execution_count": 4,
   "metadata": {
    "colab": {
     "base_uri": "https://localhost:8080/"
    },
    "id": "UuU3XTVrsHbQ",
    "outputId": "3b64315d-c640-442c-f3ff-73f0b73f5ab5"
   },
   "outputs": [
    {
     "data": {
      "text/plain": [
       "120"
      ]
     },
     "execution_count": 4,
     "metadata": {},
     "output_type": "execute_result"
    }
   ],
   "source": [
    "# Number of permutations of 5 elements is:\n",
    "5*4*3*2*1"
   ]
  },
  {
   "cell_type": "code",
   "execution_count": 5,
   "metadata": {
    "colab": {
     "base_uri": "https://localhost:8080/"
    },
    "id": "sgCZ7B2rtDZK",
    "outputId": "2ea8568d-1d78-45c8-fc0e-5f7c8b1890fb"
   },
   "outputs": [
    {
     "data": {
      "text/plain": [
       "720"
      ]
     },
     "execution_count": 5,
     "metadata": {},
     "output_type": "execute_result"
    }
   ],
   "source": [
    "# Number of permutations of 6 elements:\n",
    "6*5*4*3*2*1"
   ]
  },
  {
   "cell_type": "code",
   "execution_count": 6,
   "metadata": {
    "colab": {
     "base_uri": "https://localhost:8080/"
    },
    "id": "-hIxo2e6tOJv",
    "outputId": "73c05c54-a387-4c1c-e44f-2bf2114d80e5"
   },
   "outputs": [
    {
     "data": {
      "text/plain": [
       "3628800"
      ]
     },
     "execution_count": 6,
     "metadata": {},
     "output_type": "execute_result"
    }
   ],
   "source": [
    "# The number of permutations grows as n factorial as the length of a list of length n grows.\n",
    "import math\n",
    "\n",
    "# For ten elements.\n",
    "math.factorial(10)"
   ]
  },
  {
   "cell_type": "code",
   "execution_count": 7,
   "metadata": {
    "colab": {
     "base_uri": "https://localhost:8080/"
    },
    "id": "NR2_YfZNzqxZ",
    "outputId": "f1b37fea-ca3d-488e-a0ec-63cf1c97bb49"
   },
   "outputs": [
    {
     "data": {
      "text/plain": [
       "93326215443944152681699238856266700490715968264381621468592963895217599993229915608941463976156518286253697920827223758251185210916864000000000000000000000000"
      ]
     },
     "execution_count": 7,
     "metadata": {},
     "output_type": "execute_result"
    }
   ],
   "source": [
    "# For one hundred elements.\n",
    "math.factorial(100)"
   ]
  },
  {
   "cell_type": "code",
   "execution_count": 8,
   "metadata": {
    "colab": {
     "base_uri": "https://localhost:8080/",
     "height": 385
    },
    "id": "6U4Lew--t4-C",
    "outputId": "5ecd62cb-aee1-4b37-ea91-fb54121467c4"
   },
   "outputs": [
    {
     "data": {
      "image/png": "[encoded data removed]",
      "text/plain": [
       "<Figure size 1400x600 with 1 Axes>"
      ]
     },
     "metadata": {},
     "output_type": "display_data"
    }
   ],
   "source": [
    "# A picture of the factorial function for perspective.\n",
    "import matplotlib.pyplot as plt\n",
    "import numpy as np\n",
    "import scipy.special as sm\n",
    "\n",
    "plt.rcParams['figure.figsize'] = (14, 6)\n",
    "\n",
    "x = np.linspace(1.0, 10.0, 1000)\n",
    "y0 = 3*x\n",
    "y1 = x**3\n",
    "y2 = 3**x\n",
    "y3 = sm.factorial(x)\n",
    "\n",
    "plt.plot(x, y0, label='$3x$')\n",
    "plt.plot(x, y1, label='$x^3$')\n",
    "plt.plot(x, y2, label='$3^x$')\n",
    "plt.plot(x, y3, label='$x!$')\n",
    "\n",
    "plt.legend()\n",
    "plt.show()"
   ]
  },
  {
   "cell_type": "markdown",
   "metadata": {
    "id": "MBnYHEyYuY34"
   },
   "source": [
    "## Generating Permutations\n",
    "\n",
    "***"
   ]
  },
  {
   "cell_type": "code",
   "execution_count": 9,
   "metadata": {
    "colab": {
     "base_uri": "https://localhost:8080/"
    },
    "id": "f8eLDfPM2BLx",
    "outputId": "49348d7a-c89d-4164-bf26-25048059f388"
   },
   "outputs": [
    {
     "data": {
      "text/plain": [
       "[]"
      ]
     },
     "execution_count": 9,
     "metadata": {},
     "output_type": "execute_result"
    }
   ],
   "source": [
    "# All permutations of zero elements list.\n",
    "[]"
   ]
  },
  {
   "cell_type": "code",
   "execution_count": 10,
   "metadata": {
    "colab": {
     "base_uri": "https://localhost:8080/"
    },
    "id": "4xXshLeZ19b5",
    "outputId": "4cb7b203-29c5-463e-85b8-bc4ffd5907f0"
   },
   "outputs": [
    {
     "data": {
      "text/plain": [
       "[1]"
      ]
     },
     "execution_count": 10,
     "metadata": {},
     "output_type": "execute_result"
    }
   ],
   "source": [
    "# All permutations of one elements list.\n",
    "[1]"
   ]
  },
  {
   "cell_type": "code",
   "execution_count": 11,
   "metadata": {
    "colab": {
     "base_uri": "https://localhost:8080/"
    },
    "id": "aI8gJoEV1k5o",
    "outputId": "9a8e20af-6370-44d0-cce5-8e50ba256672"
   },
   "outputs": [
    {
     "data": {
      "text/plain": [
       "[1, 2]"
      ]
     },
     "execution_count": 11,
     "metadata": {},
     "output_type": "execute_result"
    }
   ],
   "source": [
    "# All the possible permutations of two elements.\n",
    "[2, 1]\n",
    "[1, 2]"
   ]
  },
  {
   "cell_type": "code",
   "execution_count": 12,
   "metadata": {
    "colab": {
     "base_uri": "https://localhost:8080/"
    },
    "id": "r2AYEAjK1GnZ",
    "outputId": "38813492-3a61-49ce-b453-94a8d474ffa0"
   },
   "outputs": [
    {
     "data": {
      "text/plain": [
       "[1, 2, 3]"
      ]
     },
     "execution_count": 12,
     "metadata": {},
     "output_type": "execute_result"
    }
   ],
   "source": [
    "# All the possible permutations of three elements.\n",
    "[3, 2, 1]\n",
    "[2, 3, 1]\n",
    "[2, 1, 3]\n",
    "[3, 1, 2]\n",
    "[1, 3, 2]\n",
    "[1, 2, 3]\n"
   ]
  },
  {
   "cell_type": "markdown",
   "metadata": {
    "id": "lx0LnVkc1eLY"
   },
   "source": [
    "## itertools\n",
    "\n",
    "***"
   ]
  },
  {
   "cell_type": "code",
   "execution_count": 13,
   "metadata": {
    "id": "29yTwVbT3oO0"
   },
   "outputs": [],
   "source": [
    "# From the Python Standard Library.\n",
    "import itertools as it"
   ]
  },
  {
   "cell_type": "code",
   "execution_count": 14,
   "metadata": {
    "colab": {
     "base_uri": "https://localhost:8080/"
    },
    "id": "N492pZpB4DPE",
    "outputId": "48d4c20f-2872-4b0f-b41e-fadf1ef26d06"
   },
   "outputs": [
    {
     "name": "stdout",
     "output_type": "stream",
     "text": [
      "(1, 2, 3)\n",
      "(1, 3, 2)\n",
      "(2, 1, 3)\n",
      "(2, 3, 1)\n",
      "(3, 1, 2)\n",
      "(3, 2, 1)\n"
     ]
    }
   ],
   "source": [
    "# All permutations of the list [1,2,3].\n",
    "for p in it.permutations([1, 2, 3]):\n",
    "  print(p)"
   ]
  },
  {
   "cell_type": "code",
   "execution_count": 15,
   "metadata": {
    "colab": {
     "base_uri": "https://localhost:8080/"
    },
    "id": "3GOG9Y904JhI",
    "outputId": "8ba59518-f3b6-48df-a939-d95aa0d5320e"
   },
   "outputs": [
    {
     "name": "stdout",
     "output_type": "stream",
     "text": [
      "(1, 2, 3, 4, 5, 6, 7)\n"
     ]
    }
   ],
   "source": [
    "# A terrible sorting algorithm - O(n!).\n",
    "# Search for the sorted permutation of 7 element list.\n",
    "for p in it.permutations([7, 2, 1, 6, 4, 5, 3]):\n",
    "  # Check if permutation is sorted.\n",
    "  if p[0] <= p[1] and p[1] <= p[2] and p[2] <= p[3] and p[3] <= p[4] and p[4] <= p[5] and p[5] <= p[6]:\n",
    "    # Print the permutation.\n",
    "    print(p)"
   ]
  },
  {
   "cell_type": "markdown",
   "metadata": {
    "id": "gyp559VY42gJ"
   },
   "source": [
    "## Further Reading\n",
    "\n",
    "***\n",
    "\n",
    "- https://docs.python.org/3/library/itertools.html\n",
    "- https://realpython.com/introduction-to-python-generators/\n",
    "- https://realpython.com/python-itertools/"
   ]
  },
  {
   "cell_type": "markdown",
   "metadata": {},
   "source": [
    "***\n",
    "\n",
    "## End"
   ]
  }
 ],
 "metadata": {
  "colab": {
   "authorship_tag": "ABX9TyPi4lN4ECBqaAsWbwfAMGd+",
   "collapsed_sections": [],
   "include_colab_link": true,
   "name": "permutations.ipynb",
   "provenance": []
  },
  "kernelspec": {
   "display_name": "Python 3 (ipykernel)",
   "language": "python",
   "name": "python3"
  },
  "language_info": {
   "codemirror_mode": {
    "name": "ipython",
    "version": 3
   },
   "file_extension": ".py",
   "mimetype": "text/x-python",
   "name": "python",
   "nbconvert_exporter": "python",
   "pygments_lexer": "ipython3",
   "version": "3.11.5"
  }
 },
 "nbformat": 4,
 "nbformat_minor": 4
}
